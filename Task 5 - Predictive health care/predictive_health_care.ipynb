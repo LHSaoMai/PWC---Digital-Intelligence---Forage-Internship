{
 "cells": [
  {
   "cell_type": "markdown",
   "metadata": {},
   "source": [
    "# PWC Forage Internship - Predictive Health Care"
   ]
  },
  {
   "cell_type": "markdown",
   "metadata": {},
   "source": [
    "#### Remark "
   ]
  },
  {
   "cell_type": "markdown",
   "metadata": {},
   "source": [
    "We have exactly the same results (as the corrections given in froage PWC) for the Lyrica, however for the Tramal there is a slightly difference. This is because, PWC used R and we used Python."
   ]
  },
  {
   "cell_type": "markdown",
   "metadata": {},
   "source": [
    "R and Python have some different default behaviors:\n",
    "\n",
    "1) R and Python have different default settings for handling missing values. Their merge/join operations have slightly different default parameters. They may handle data type conversions differently\n",
    "\n",
    "\n",
    "2) Data reading differences: Different default encodings (R and Python might interpret special characters differently). Different handling of white spaces and line endings. Different default settings for parsing dates and numbers\n",
    "\n",
    "\n",
    "3) Implementation differences: Different algorithms for duplicate removal. Different approaches to string manipulation. Different ways of handling case sensitivity\n",
    "\n",
    "\n",
    "4) Statistical computation differences: Slightly different rounding methods. Different default parameters in statistical functions. Different approaches to handling edge cases\n",
    "\n",
    "\n",
    "5) Memory management: Different ways of storing and processing data in memory. Different approaches to data optimization"
   ]
  },
  {
   "cell_type": "markdown",
   "metadata": {},
   "source": [
    "The key is to:\n",
    "\n",
    "Document your methodology clearly. Be consistent within each language. Test your results thoroughly. Understand that small differences are acceptable as long as the overall conclusions remain valid. When exact matching is required, carefully align all parameters and methods between both languages"
   ]
  },
  {
   "cell_type": "markdown",
   "metadata": {},
   "source": [
    "Beacause to slight variations in how R and Python handle data processing, but the overall conclusions about Tramal's adverse effects remain the same. So our results are perfeclty fine"
   ]
  },
  {
   "cell_type": "code",
   "execution_count": 74,
   "metadata": {},
   "outputs": [],
   "source": [
    "import pandas as pd\n",
    "import numpy as np\n",
    "import pandas as pd\n",
    "import matplotlib.pyplot as plt"
   ]
  },
  {
   "cell_type": "code",
   "execution_count": 110,
   "metadata": {},
   "outputs": [],
   "source": [
    "# To display all rows\n",
    "pd.set_option('display.max_rows', None)\n",
    "\n",
    "# To display all columns\n",
    "pd.set_option('display.max_columns', None)"
   ]
  },
  {
   "cell_type": "code",
   "execution_count": 111,
   "metadata": {},
   "outputs": [],
   "source": [
    "drug_col = ['primaryid','drugname']\n",
    "Q1_drug=r\"C:\\Users\\lhoan\\OneDrive\\Bureau\\Pwc - Forage\\faers_ascii_2019Q1\\ascii\\DRUG19Q1.txt\"\n",
    "Q2_drug=r\"C:\\Users\\lhoan\\OneDrive\\Bureau\\Pwc - Forage\\faers_ascii_2019Q2\\ascii\\DRUG19Q2.txt\"\n",
    "Q3_drug=r\"C:\\Users\\lhoan\\OneDrive\\Bureau\\Pwc - Forage\\faers_ascii_2019Q3\\ascii\\DRUG19Q3.txt\"\n",
    "Q4_drug=r\"C:\\Users\\lhoan\\OneDrive\\Bureau\\Pwc - Forage\\faers_ascii_2019Q4\\ascii\\DRUG19Q4.txt\"\n",
    "\n",
    "Q1_react = r\"C:\\Users\\lhoan\\OneDrive\\Bureau\\Pwc - Forage\\faers_ascii_2019Q1\\ascii\\REAC19Q1.txt\"\n",
    "Q2_react = r\"C:\\Users\\lhoan\\OneDrive\\Bureau\\Pwc - Forage\\faers_ascii_2019Q2\\ascii\\REAC19Q2.txt\"\n",
    "Q3_react = r\"C:\\Users\\lhoan\\OneDrive\\Bureau\\Pwc - Forage\\faers_ascii_2019Q3\\ascii\\REAC19Q3.txt\"\n",
    "Q4_react = r\"C:\\Users\\lhoan\\OneDrive\\Bureau\\Pwc - Forage\\faers_ascii_2019Q4\\ascii\\REAC19Q4.txt\""
   ]
  },
  {
   "cell_type": "code",
   "execution_count": 112,
   "metadata": {},
   "outputs": [],
   "source": [
    "df_drug_Q1  = pd.read_csv(Q1_drug, delimiter='$', usecols=drug_col,dtype=str,encoding='latin1')\n",
    "df_drug_Q2  = pd.read_csv(Q2_drug, delimiter='$', usecols=drug_col,dtype=str,encoding='latin1')\n",
    "df_drug_Q3  = pd.read_csv(Q3_drug, delimiter='$', usecols=drug_col, dtype=str,encoding='latin1')\n",
    "df_drug_Q4  = pd.read_csv(Q4_drug, delimiter='$', usecols=drug_col, dtype=str,encoding='latin1')"
   ]
  },
  {
   "cell_type": "code",
   "execution_count": 139,
   "metadata": {},
   "outputs": [],
   "source": [
    "df_react_Q1  = pd.read_csv(Q1_react, delimiter='$',dtype=str,encoding='latin1')\n",
    "df_react_Q2  = pd.read_csv(Q2_react, delimiter='$',dtype=str,encoding='latin1')\n",
    "df_react_Q3  = pd.read_csv(Q3_react, delimiter='$',dtype=str,encoding='latin1')\n",
    "df_react_Q4  = pd.read_csv(Q4_react, delimiter='$',dtype=str,encoding='latin1')"
   ]
  },
  {
   "cell_type": "markdown",
   "metadata": {},
   "source": [
    "### Drug Dataset "
   ]
  },
  {
   "cell_type": "code",
   "execution_count": 141,
   "metadata": {},
   "outputs": [
    {
     "data": {
      "text/html": [
       "<div>\n",
       "<style scoped>\n",
       "    .dataframe tbody tr th:only-of-type {\n",
       "        vertical-align: middle;\n",
       "    }\n",
       "\n",
       "    .dataframe tbody tr th {\n",
       "        vertical-align: top;\n",
       "    }\n",
       "\n",
       "    .dataframe thead th {\n",
       "        text-align: right;\n",
       "    }\n",
       "</style>\n",
       "<table border=\"1\" class=\"dataframe\">\n",
       "  <thead>\n",
       "    <tr style=\"text-align: right;\">\n",
       "      <th></th>\n",
       "      <th>primaryid</th>\n",
       "      <th>drugname</th>\n",
       "    </tr>\n",
       "  </thead>\n",
       "  <tbody>\n",
       "    <tr>\n",
       "      <th>0</th>\n",
       "      <td>1000661812</td>\n",
       "      <td>LIPITOR</td>\n",
       "    </tr>\n",
       "    <tr>\n",
       "      <th>1</th>\n",
       "      <td>1000661812</td>\n",
       "      <td>BENTYL</td>\n",
       "    </tr>\n",
       "    <tr>\n",
       "      <th>2</th>\n",
       "      <td>1000661812</td>\n",
       "      <td>DICYCLOMINE</td>\n",
       "    </tr>\n",
       "    <tr>\n",
       "      <th>3</th>\n",
       "      <td>1000808590</td>\n",
       "      <td>SANDOSTATIN LAR DEPOT</td>\n",
       "    </tr>\n",
       "    <tr>\n",
       "      <th>4</th>\n",
       "      <td>1000808590</td>\n",
       "      <td>SANDOSTATIN LAR DEPOT</td>\n",
       "    </tr>\n",
       "  </tbody>\n",
       "</table>\n",
       "</div>"
      ],
      "text/plain": [
       "    primaryid               drugname\n",
       "0  1000661812                LIPITOR\n",
       "1  1000661812                 BENTYL\n",
       "2  1000661812            DICYCLOMINE\n",
       "3  1000808590  SANDOSTATIN LAR DEPOT\n",
       "4  1000808590  SANDOSTATIN LAR DEPOT"
      ]
     },
     "execution_count": 141,
     "metadata": {},
     "output_type": "execute_result"
    }
   ],
   "source": [
    "df_drug_Q1.head()"
   ]
  },
  {
   "cell_type": "code",
   "execution_count": 142,
   "metadata": {},
   "outputs": [
    {
     "data": {
      "text/html": [
       "<div>\n",
       "<style scoped>\n",
       "    .dataframe tbody tr th:only-of-type {\n",
       "        vertical-align: middle;\n",
       "    }\n",
       "\n",
       "    .dataframe tbody tr th {\n",
       "        vertical-align: top;\n",
       "    }\n",
       "\n",
       "    .dataframe thead th {\n",
       "        text-align: right;\n",
       "    }\n",
       "</style>\n",
       "<table border=\"1\" class=\"dataframe\">\n",
       "  <thead>\n",
       "    <tr style=\"text-align: right;\">\n",
       "      <th></th>\n",
       "      <th>primaryid</th>\n",
       "      <th>drugname</th>\n",
       "    </tr>\n",
       "  </thead>\n",
       "  <tbody>\n",
       "    <tr>\n",
       "      <th>0</th>\n",
       "      <td>1000661813</td>\n",
       "      <td>LIPITOR</td>\n",
       "    </tr>\n",
       "    <tr>\n",
       "      <th>1</th>\n",
       "      <td>1000661813</td>\n",
       "      <td>BENTYL</td>\n",
       "    </tr>\n",
       "    <tr>\n",
       "      <th>2</th>\n",
       "      <td>1000661813</td>\n",
       "      <td>DICYCLOMINE</td>\n",
       "    </tr>\n",
       "    <tr>\n",
       "      <th>3</th>\n",
       "      <td>1000808410</td>\n",
       "      <td>INFLIXIMAB, RECOMBINANT</td>\n",
       "    </tr>\n",
       "    <tr>\n",
       "      <th>4</th>\n",
       "      <td>1000808410</td>\n",
       "      <td>METHOTREXATE.</td>\n",
       "    </tr>\n",
       "  </tbody>\n",
       "</table>\n",
       "</div>"
      ],
      "text/plain": [
       "    primaryid                 drugname\n",
       "0  1000661813                  LIPITOR\n",
       "1  1000661813                   BENTYL\n",
       "2  1000661813              DICYCLOMINE\n",
       "3  1000808410  INFLIXIMAB, RECOMBINANT\n",
       "4  1000808410            METHOTREXATE."
      ]
     },
     "execution_count": 142,
     "metadata": {},
     "output_type": "execute_result"
    }
   ],
   "source": [
    "df_drug_Q2.head()"
   ]
  },
  {
   "cell_type": "code",
   "execution_count": 143,
   "metadata": {},
   "outputs": [],
   "source": [
    "df_drug_all = pd.concat([df_drug_Q1, df_drug_Q2, df_drug_Q3, df_drug_Q4], ignore_index=True)\n"
   ]
  },
  {
   "cell_type": "code",
   "execution_count": 144,
   "metadata": {},
   "outputs": [
    {
     "data": {
      "text/html": [
       "<div>\n",
       "<style scoped>\n",
       "    .dataframe tbody tr th:only-of-type {\n",
       "        vertical-align: middle;\n",
       "    }\n",
       "\n",
       "    .dataframe tbody tr th {\n",
       "        vertical-align: top;\n",
       "    }\n",
       "\n",
       "    .dataframe thead th {\n",
       "        text-align: right;\n",
       "    }\n",
       "</style>\n",
       "<table border=\"1\" class=\"dataframe\">\n",
       "  <thead>\n",
       "    <tr style=\"text-align: right;\">\n",
       "      <th></th>\n",
       "      <th>primaryid</th>\n",
       "      <th>drugname</th>\n",
       "    </tr>\n",
       "  </thead>\n",
       "  <tbody>\n",
       "    <tr>\n",
       "      <th>3</th>\n",
       "      <td>1000808590</td>\n",
       "      <td>SANDOSTATIN LAR DEPOT</td>\n",
       "    </tr>\n",
       "    <tr>\n",
       "      <th>4</th>\n",
       "      <td>1000808590</td>\n",
       "      <td>SANDOSTATIN LAR DEPOT</td>\n",
       "    </tr>\n",
       "    <tr>\n",
       "      <th>5</th>\n",
       "      <td>1000808590</td>\n",
       "      <td>SANDOSTATIN LAR DEPOT</td>\n",
       "    </tr>\n",
       "    <tr>\n",
       "      <th>6</th>\n",
       "      <td>1000808590</td>\n",
       "      <td>SANDOSTATIN LAR DEPOT</td>\n",
       "    </tr>\n",
       "    <tr>\n",
       "      <th>7</th>\n",
       "      <td>1000808590</td>\n",
       "      <td>SANDOSTATIN LAR DEPOT</td>\n",
       "    </tr>\n",
       "    <tr>\n",
       "      <th>8</th>\n",
       "      <td>1000808590</td>\n",
       "      <td>SANDOSTATIN LAR DEPOT</td>\n",
       "    </tr>\n",
       "    <tr>\n",
       "      <th>9</th>\n",
       "      <td>1000808590</td>\n",
       "      <td>SANDOSTATIN LAR DEPOT</td>\n",
       "    </tr>\n",
       "    <tr>\n",
       "      <th>10</th>\n",
       "      <td>1000808590</td>\n",
       "      <td>SANDOSTATIN</td>\n",
       "    </tr>\n",
       "    <tr>\n",
       "      <th>11</th>\n",
       "      <td>1000808590</td>\n",
       "      <td>SANDOSTATIN</td>\n",
       "    </tr>\n",
       "    <tr>\n",
       "      <th>12</th>\n",
       "      <td>1000808590</td>\n",
       "      <td>DILTIAZEM HYDROCHLORIDE SANDOZ</td>\n",
       "    </tr>\n",
       "    <tr>\n",
       "      <th>13</th>\n",
       "      <td>1000808590</td>\n",
       "      <td>DILTIAZEM HYDROCHLORIDE SANDOZ</td>\n",
       "    </tr>\n",
       "    <tr>\n",
       "      <th>14</th>\n",
       "      <td>1000808590</td>\n",
       "      <td>DILTIAZEM HYDROCHLORIDE SANDOZ</td>\n",
       "    </tr>\n",
       "    <tr>\n",
       "      <th>15</th>\n",
       "      <td>1000808590</td>\n",
       "      <td>CORTISONE</td>\n",
       "    </tr>\n",
       "    <tr>\n",
       "      <th>16</th>\n",
       "      <td>1000808590</td>\n",
       "      <td>PRADAXA</td>\n",
       "    </tr>\n",
       "    <tr>\n",
       "      <th>17</th>\n",
       "      <td>1000808590</td>\n",
       "      <td>PRADAXA</td>\n",
       "    </tr>\n",
       "    <tr>\n",
       "      <th>18</th>\n",
       "      <td>1000808590</td>\n",
       "      <td>TIAZAC</td>\n",
       "    </tr>\n",
       "    <tr>\n",
       "      <th>19</th>\n",
       "      <td>1000808590</td>\n",
       "      <td>TIAZAC</td>\n",
       "    </tr>\n",
       "    <tr>\n",
       "      <th>20</th>\n",
       "      <td>1000808590</td>\n",
       "      <td>TAMBOCOR</td>\n",
       "    </tr>\n",
       "    <tr>\n",
       "      <th>21</th>\n",
       "      <td>1000808590</td>\n",
       "      <td>CORTICOSTEROID NOS</td>\n",
       "    </tr>\n",
       "  </tbody>\n",
       "</table>\n",
       "</div>"
      ],
      "text/plain": [
       "     primaryid                        drugname\n",
       "3   1000808590           SANDOSTATIN LAR DEPOT\n",
       "4   1000808590           SANDOSTATIN LAR DEPOT\n",
       "5   1000808590           SANDOSTATIN LAR DEPOT\n",
       "6   1000808590           SANDOSTATIN LAR DEPOT\n",
       "7   1000808590           SANDOSTATIN LAR DEPOT\n",
       "8   1000808590           SANDOSTATIN LAR DEPOT\n",
       "9   1000808590           SANDOSTATIN LAR DEPOT\n",
       "10  1000808590                     SANDOSTATIN\n",
       "11  1000808590                     SANDOSTATIN\n",
       "12  1000808590  DILTIAZEM HYDROCHLORIDE SANDOZ\n",
       "13  1000808590  DILTIAZEM HYDROCHLORIDE SANDOZ\n",
       "14  1000808590  DILTIAZEM HYDROCHLORIDE SANDOZ\n",
       "15  1000808590                       CORTISONE\n",
       "16  1000808590                         PRADAXA\n",
       "17  1000808590                         PRADAXA\n",
       "18  1000808590                          TIAZAC\n",
       "19  1000808590                          TIAZAC\n",
       "20  1000808590                        TAMBOCOR\n",
       "21  1000808590              CORTICOSTEROID NOS"
      ]
     },
     "execution_count": 144,
     "metadata": {},
     "output_type": "execute_result"
    }
   ],
   "source": [
    "df_drug_all[df_drug_all['primaryid']=='1000808590'] # remove duplicated "
   ]
  },
  {
   "cell_type": "code",
   "execution_count": 145,
   "metadata": {},
   "outputs": [],
   "source": [
    "# all the name in lower string\n",
    "df_drug_all['drugname'] = df_drug_all['drugname'].str.lower()"
   ]
  },
  {
   "cell_type": "code",
   "execution_count": 146,
   "metadata": {},
   "outputs": [],
   "source": [
    "#drug = sorted(df_drug_all[\"drugname\"].dropna().astype(str).unique())  # Convert all to strings\n",
    "#for i in drug:\n",
    " #   print(i)"
   ]
  },
  {
   "cell_type": "code",
   "execution_count": 147,
   "metadata": {},
   "outputs": [],
   "source": [
    "drugUnique = df_drug_all.drop_duplicates(subset=[\"primaryid\", \"drugname\"])"
   ]
  },
  {
   "cell_type": "code",
   "execution_count": 148,
   "metadata": {},
   "outputs": [
    {
     "data": {
      "text/html": [
       "<div>\n",
       "<style scoped>\n",
       "    .dataframe tbody tr th:only-of-type {\n",
       "        vertical-align: middle;\n",
       "    }\n",
       "\n",
       "    .dataframe tbody tr th {\n",
       "        vertical-align: top;\n",
       "    }\n",
       "\n",
       "    .dataframe thead th {\n",
       "        text-align: right;\n",
       "    }\n",
       "</style>\n",
       "<table border=\"1\" class=\"dataframe\">\n",
       "  <thead>\n",
       "    <tr style=\"text-align: right;\">\n",
       "      <th></th>\n",
       "      <th>primaryid</th>\n",
       "      <th>drugname</th>\n",
       "    </tr>\n",
       "  </thead>\n",
       "  <tbody>\n",
       "    <tr>\n",
       "      <th>3</th>\n",
       "      <td>1000808590</td>\n",
       "      <td>sandostatin lar depot</td>\n",
       "    </tr>\n",
       "    <tr>\n",
       "      <th>10</th>\n",
       "      <td>1000808590</td>\n",
       "      <td>sandostatin</td>\n",
       "    </tr>\n",
       "    <tr>\n",
       "      <th>12</th>\n",
       "      <td>1000808590</td>\n",
       "      <td>diltiazem hydrochloride sandoz</td>\n",
       "    </tr>\n",
       "    <tr>\n",
       "      <th>15</th>\n",
       "      <td>1000808590</td>\n",
       "      <td>cortisone</td>\n",
       "    </tr>\n",
       "    <tr>\n",
       "      <th>16</th>\n",
       "      <td>1000808590</td>\n",
       "      <td>pradaxa</td>\n",
       "    </tr>\n",
       "    <tr>\n",
       "      <th>18</th>\n",
       "      <td>1000808590</td>\n",
       "      <td>tiazac</td>\n",
       "    </tr>\n",
       "    <tr>\n",
       "      <th>20</th>\n",
       "      <td>1000808590</td>\n",
       "      <td>tambocor</td>\n",
       "    </tr>\n",
       "    <tr>\n",
       "      <th>21</th>\n",
       "      <td>1000808590</td>\n",
       "      <td>corticosteroid nos</td>\n",
       "    </tr>\n",
       "  </tbody>\n",
       "</table>\n",
       "</div>"
      ],
      "text/plain": [
       "     primaryid                        drugname\n",
       "3   1000808590           sandostatin lar depot\n",
       "10  1000808590                     sandostatin\n",
       "12  1000808590  diltiazem hydrochloride sandoz\n",
       "15  1000808590                       cortisone\n",
       "16  1000808590                         pradaxa\n",
       "18  1000808590                          tiazac\n",
       "20  1000808590                        tambocor\n",
       "21  1000808590              corticosteroid nos"
      ]
     },
     "execution_count": 148,
     "metadata": {},
     "output_type": "execute_result"
    }
   ],
   "source": [
    "drugUnique[drugUnique['primaryid']=='1000808590']"
   ]
  },
  {
   "cell_type": "code",
   "execution_count": 149,
   "metadata": {},
   "outputs": [
    {
     "data": {
      "text/plain": [
       "(6002613, 2)"
      ]
     },
     "execution_count": 149,
     "metadata": {},
     "output_type": "execute_result"
    }
   ],
   "source": [
    "drugUnique.shape"
   ]
  },
  {
   "cell_type": "markdown",
   "metadata": {},
   "source": [
    "Quick check that we reduce our data without having duplciate "
   ]
  },
  {
   "cell_type": "code",
   "execution_count": 150,
   "metadata": {},
   "outputs": [
    {
     "name": "stdout",
     "output_type": "stream",
     "text": [
      "7208616\n",
      "6002613\n"
     ]
    }
   ],
   "source": [
    "print(len(df_drug_all))\n",
    "print(len(drugUnique))"
   ]
  },
  {
   "cell_type": "code",
   "execution_count": 151,
   "metadata": {},
   "outputs": [],
   "source": [
    "drug_tramal = drugUnique[drugUnique['drugname'] == 'tramal']"
   ]
  },
  {
   "cell_type": "code",
   "execution_count": 152,
   "metadata": {},
   "outputs": [],
   "source": [
    "drug_lyrica = drugUnique[drugUnique['drugname']=='lyrica']"
   ]
  },
  {
   "cell_type": "markdown",
   "metadata": {},
   "source": [
    "#### Reaction dataset "
   ]
  },
  {
   "cell_type": "code",
   "execution_count": 153,
   "metadata": {},
   "outputs": [
    {
     "data": {
      "text/html": [
       "<div>\n",
       "<style scoped>\n",
       "    .dataframe tbody tr th:only-of-type {\n",
       "        vertical-align: middle;\n",
       "    }\n",
       "\n",
       "    .dataframe tbody tr th {\n",
       "        vertical-align: top;\n",
       "    }\n",
       "\n",
       "    .dataframe thead th {\n",
       "        text-align: right;\n",
       "    }\n",
       "</style>\n",
       "<table border=\"1\" class=\"dataframe\">\n",
       "  <thead>\n",
       "    <tr style=\"text-align: right;\">\n",
       "      <th></th>\n",
       "      <th>primaryid</th>\n",
       "      <th>caseid</th>\n",
       "      <th>pt</th>\n",
       "      <th>drug_rec_act</th>\n",
       "    </tr>\n",
       "  </thead>\n",
       "  <tbody>\n",
       "    <tr>\n",
       "      <th>0</th>\n",
       "      <td>1000661812</td>\n",
       "      <td>10006618</td>\n",
       "      <td>Drug hypersensitivity</td>\n",
       "      <td>NaN</td>\n",
       "    </tr>\n",
       "    <tr>\n",
       "      <th>1</th>\n",
       "      <td>1000661812</td>\n",
       "      <td>10006618</td>\n",
       "      <td>Muscular weakness</td>\n",
       "      <td>NaN</td>\n",
       "    </tr>\n",
       "    <tr>\n",
       "      <th>2</th>\n",
       "      <td>1000661812</td>\n",
       "      <td>10006618</td>\n",
       "      <td>Rash</td>\n",
       "      <td>NaN</td>\n",
       "    </tr>\n",
       "    <tr>\n",
       "      <th>3</th>\n",
       "      <td>1000661812</td>\n",
       "      <td>10006618</td>\n",
       "      <td>Urticaria</td>\n",
       "      <td>NaN</td>\n",
       "    </tr>\n",
       "    <tr>\n",
       "      <th>4</th>\n",
       "      <td>1000808590</td>\n",
       "      <td>10008085</td>\n",
       "      <td>Abdominal adhesions</td>\n",
       "      <td>NaN</td>\n",
       "    </tr>\n",
       "  </tbody>\n",
       "</table>\n",
       "</div>"
      ],
      "text/plain": [
       "    primaryid    caseid                     pt drug_rec_act\n",
       "0  1000661812  10006618  Drug hypersensitivity          NaN\n",
       "1  1000661812  10006618      Muscular weakness          NaN\n",
       "2  1000661812  10006618                   Rash          NaN\n",
       "3  1000661812  10006618              Urticaria          NaN\n",
       "4  1000808590  10008085    Abdominal adhesions          NaN"
      ]
     },
     "execution_count": 153,
     "metadata": {},
     "output_type": "execute_result"
    }
   ],
   "source": [
    "df_react_Q1.head()"
   ]
  },
  {
   "cell_type": "code",
   "execution_count": 154,
   "metadata": {},
   "outputs": [
    {
     "data": {
      "text/html": [
       "<div>\n",
       "<style scoped>\n",
       "    .dataframe tbody tr th:only-of-type {\n",
       "        vertical-align: middle;\n",
       "    }\n",
       "\n",
       "    .dataframe tbody tr th {\n",
       "        vertical-align: top;\n",
       "    }\n",
       "\n",
       "    .dataframe thead th {\n",
       "        text-align: right;\n",
       "    }\n",
       "</style>\n",
       "<table border=\"1\" class=\"dataframe\">\n",
       "  <thead>\n",
       "    <tr style=\"text-align: right;\">\n",
       "      <th></th>\n",
       "      <th>primaryid</th>\n",
       "      <th>caseid</th>\n",
       "      <th>pt</th>\n",
       "      <th>drug_rec_act</th>\n",
       "    </tr>\n",
       "  </thead>\n",
       "  <tbody>\n",
       "    <tr>\n",
       "      <th>0</th>\n",
       "      <td>100046572</td>\n",
       "      <td>10004657</td>\n",
       "      <td>Type 2 diabetes mellitus</td>\n",
       "      <td>NaN</td>\n",
       "    </tr>\n",
       "    <tr>\n",
       "      <th>1</th>\n",
       "      <td>100046612</td>\n",
       "      <td>10004661</td>\n",
       "      <td>Glucose tolerance impaired</td>\n",
       "      <td>NaN</td>\n",
       "    </tr>\n",
       "    <tr>\n",
       "      <th>2</th>\n",
       "      <td>100046612</td>\n",
       "      <td>10004661</td>\n",
       "      <td>Type 2 diabetes mellitus</td>\n",
       "      <td>NaN</td>\n",
       "    </tr>\n",
       "    <tr>\n",
       "      <th>3</th>\n",
       "      <td>100046982</td>\n",
       "      <td>10004698</td>\n",
       "      <td>Type 2 diabetes mellitus</td>\n",
       "      <td>NaN</td>\n",
       "    </tr>\n",
       "    <tr>\n",
       "      <th>4</th>\n",
       "      <td>100047142</td>\n",
       "      <td>10004714</td>\n",
       "      <td>Type 2 diabetes mellitus</td>\n",
       "      <td>NaN</td>\n",
       "    </tr>\n",
       "  </tbody>\n",
       "</table>\n",
       "</div>"
      ],
      "text/plain": [
       "   primaryid    caseid                          pt drug_rec_act\n",
       "0  100046572  10004657    Type 2 diabetes mellitus          NaN\n",
       "1  100046612  10004661  Glucose tolerance impaired          NaN\n",
       "2  100046612  10004661    Type 2 diabetes mellitus          NaN\n",
       "3  100046982  10004698    Type 2 diabetes mellitus          NaN\n",
       "4  100047142  10004714    Type 2 diabetes mellitus          NaN"
      ]
     },
     "execution_count": 154,
     "metadata": {},
     "output_type": "execute_result"
    }
   ],
   "source": [
    "df_react_Q4.head()"
   ]
  },
  {
   "cell_type": "code",
   "execution_count": 155,
   "metadata": {},
   "outputs": [],
   "source": [
    "df_react_all = pd.concat([df_react_Q1, df_react_Q2, df_react_Q3, df_react_Q4], ignore_index=True)"
   ]
  },
  {
   "cell_type": "code",
   "execution_count": 156,
   "metadata": {},
   "outputs": [
    {
     "data": {
      "text/html": [
       "<div>\n",
       "<style scoped>\n",
       "    .dataframe tbody tr th:only-of-type {\n",
       "        vertical-align: middle;\n",
       "    }\n",
       "\n",
       "    .dataframe tbody tr th {\n",
       "        vertical-align: top;\n",
       "    }\n",
       "\n",
       "    .dataframe thead th {\n",
       "        text-align: right;\n",
       "    }\n",
       "</style>\n",
       "<table border=\"1\" class=\"dataframe\">\n",
       "  <thead>\n",
       "    <tr style=\"text-align: right;\">\n",
       "      <th></th>\n",
       "      <th>primaryid</th>\n",
       "      <th>caseid</th>\n",
       "      <th>pt</th>\n",
       "      <th>drug_rec_act</th>\n",
       "    </tr>\n",
       "  </thead>\n",
       "  <tbody>\n",
       "    <tr>\n",
       "      <th>0</th>\n",
       "      <td>1000661812</td>\n",
       "      <td>10006618</td>\n",
       "      <td>Drug hypersensitivity</td>\n",
       "      <td>NaN</td>\n",
       "    </tr>\n",
       "    <tr>\n",
       "      <th>1</th>\n",
       "      <td>1000661812</td>\n",
       "      <td>10006618</td>\n",
       "      <td>Muscular weakness</td>\n",
       "      <td>NaN</td>\n",
       "    </tr>\n",
       "    <tr>\n",
       "      <th>2</th>\n",
       "      <td>1000661812</td>\n",
       "      <td>10006618</td>\n",
       "      <td>Rash</td>\n",
       "      <td>NaN</td>\n",
       "    </tr>\n",
       "    <tr>\n",
       "      <th>3</th>\n",
       "      <td>1000661812</td>\n",
       "      <td>10006618</td>\n",
       "      <td>Urticaria</td>\n",
       "      <td>NaN</td>\n",
       "    </tr>\n",
       "    <tr>\n",
       "      <th>4</th>\n",
       "      <td>1000808590</td>\n",
       "      <td>10008085</td>\n",
       "      <td>Abdominal adhesions</td>\n",
       "      <td>NaN</td>\n",
       "    </tr>\n",
       "  </tbody>\n",
       "</table>\n",
       "</div>"
      ],
      "text/plain": [
       "    primaryid    caseid                     pt drug_rec_act\n",
       "0  1000661812  10006618  Drug hypersensitivity          NaN\n",
       "1  1000661812  10006618      Muscular weakness          NaN\n",
       "2  1000661812  10006618                   Rash          NaN\n",
       "3  1000661812  10006618              Urticaria          NaN\n",
       "4  1000808590  10008085    Abdominal adhesions          NaN"
      ]
     },
     "execution_count": 156,
     "metadata": {},
     "output_type": "execute_result"
    }
   ],
   "source": [
    "df_react_all.head()"
   ]
  },
  {
   "cell_type": "code",
   "execution_count": 157,
   "metadata": {},
   "outputs": [
    {
     "data": {
      "text/plain": [
       "(5576726, 4)"
      ]
     },
     "execution_count": 157,
     "metadata": {},
     "output_type": "execute_result"
    }
   ],
   "source": [
    "df_react_all.shape"
   ]
  },
  {
   "cell_type": "code",
   "execution_count": 158,
   "metadata": {},
   "outputs": [],
   "source": [
    "df_react_all['pt'] = df_react_all['pt'].str.lower().str.strip()"
   ]
  },
  {
   "cell_type": "code",
   "execution_count": 159,
   "metadata": {},
   "outputs": [],
   "source": [
    "#df_react_all[df_react_all['primaryid']=='1000808590'] #could remove duplicate of primaryid and pt "
   ]
  },
  {
   "cell_type": "markdown",
   "metadata": {},
   "source": [
    "We want to keep all the reactions and merge it with the drugs names. It's why we not drops any duplicates in the reaction dataset"
   ]
  },
  {
   "cell_type": "markdown",
   "metadata": {},
   "source": [
    "### Merge tramal"
   ]
  },
  {
   "cell_type": "code",
   "execution_count": 185,
   "metadata": {},
   "outputs": [],
   "source": [
    "# now put the two dataset together \n",
    "drug_react = df_react_all.merge(drug_tramal, on = ['primaryid'],how='left')"
   ]
  },
  {
   "cell_type": "code",
   "execution_count": 180,
   "metadata": {},
   "outputs": [],
   "source": [
    "drug_react = drug_react.dropna(subset=['drugname'])"
   ]
  },
  {
   "cell_type": "code",
   "execution_count": 181,
   "metadata": {},
   "outputs": [],
   "source": [
    "# Remove duplicate adverse event entries if needed\n",
    "drug_react = drug_react.drop_duplicates(subset=['primaryid', 'pt'])"
   ]
  },
  {
   "cell_type": "code",
   "execution_count": 182,
   "metadata": {},
   "outputs": [
    {
     "data": {
      "text/html": [
       "<div>\n",
       "<style scoped>\n",
       "    .dataframe tbody tr th:only-of-type {\n",
       "        vertical-align: middle;\n",
       "    }\n",
       "\n",
       "    .dataframe tbody tr th {\n",
       "        vertical-align: top;\n",
       "    }\n",
       "\n",
       "    .dataframe thead th {\n",
       "        text-align: right;\n",
       "    }\n",
       "</style>\n",
       "<table border=\"1\" class=\"dataframe\">\n",
       "  <thead>\n",
       "    <tr style=\"text-align: right;\">\n",
       "      <th></th>\n",
       "      <th>primaryid</th>\n",
       "      <th>caseid</th>\n",
       "      <th>pt</th>\n",
       "      <th>drug_rec_act</th>\n",
       "      <th>drugname</th>\n",
       "    </tr>\n",
       "  </thead>\n",
       "  <tbody>\n",
       "    <tr>\n",
       "      <th>8428</th>\n",
       "      <td>109822347</td>\n",
       "      <td>10982234</td>\n",
       "      <td>general physical health deterioration</td>\n",
       "      <td>NaN</td>\n",
       "      <td>tramal</td>\n",
       "    </tr>\n",
       "    <tr>\n",
       "      <th>9524</th>\n",
       "      <td>110887056</td>\n",
       "      <td>11088705</td>\n",
       "      <td>depressed mood</td>\n",
       "      <td>NaN</td>\n",
       "      <td>tramal</td>\n",
       "    </tr>\n",
       "    <tr>\n",
       "      <th>9525</th>\n",
       "      <td>110887056</td>\n",
       "      <td>11088705</td>\n",
       "      <td>disturbance in attention</td>\n",
       "      <td>NaN</td>\n",
       "      <td>tramal</td>\n",
       "    </tr>\n",
       "    <tr>\n",
       "      <th>9526</th>\n",
       "      <td>110887056</td>\n",
       "      <td>11088705</td>\n",
       "      <td>dyspnoea</td>\n",
       "      <td>NaN</td>\n",
       "      <td>tramal</td>\n",
       "    </tr>\n",
       "    <tr>\n",
       "      <th>9527</th>\n",
       "      <td>110887056</td>\n",
       "      <td>11088705</td>\n",
       "      <td>electrocardiogram qt prolonged</td>\n",
       "      <td>NaN</td>\n",
       "      <td>tramal</td>\n",
       "    </tr>\n",
       "    <tr>\n",
       "      <th>9528</th>\n",
       "      <td>110887056</td>\n",
       "      <td>11088705</td>\n",
       "      <td>fatigue</td>\n",
       "      <td>NaN</td>\n",
       "      <td>tramal</td>\n",
       "    </tr>\n",
       "    <tr>\n",
       "      <th>9529</th>\n",
       "      <td>110887056</td>\n",
       "      <td>11088705</td>\n",
       "      <td>gastritis</td>\n",
       "      <td>NaN</td>\n",
       "      <td>tramal</td>\n",
       "    </tr>\n",
       "    <tr>\n",
       "      <th>9530</th>\n",
       "      <td>110887056</td>\n",
       "      <td>11088705</td>\n",
       "      <td>general physical health deterioration</td>\n",
       "      <td>NaN</td>\n",
       "      <td>tramal</td>\n",
       "    </tr>\n",
       "    <tr>\n",
       "      <th>9531</th>\n",
       "      <td>110887056</td>\n",
       "      <td>11088705</td>\n",
       "      <td>insomnia</td>\n",
       "      <td>NaN</td>\n",
       "      <td>tramal</td>\n",
       "    </tr>\n",
       "    <tr>\n",
       "      <th>9532</th>\n",
       "      <td>110887056</td>\n",
       "      <td>11088705</td>\n",
       "      <td>supraventricular tachycardia</td>\n",
       "      <td>NaN</td>\n",
       "      <td>tramal</td>\n",
       "    </tr>\n",
       "  </tbody>\n",
       "</table>\n",
       "</div>"
      ],
      "text/plain": [
       "      primaryid    caseid                                     pt drug_rec_act  \\\n",
       "8428  109822347  10982234  general physical health deterioration          NaN   \n",
       "9524  110887056  11088705                         depressed mood          NaN   \n",
       "9525  110887056  11088705               disturbance in attention          NaN   \n",
       "9526  110887056  11088705                               dyspnoea          NaN   \n",
       "9527  110887056  11088705         electrocardiogram qt prolonged          NaN   \n",
       "9528  110887056  11088705                                fatigue          NaN   \n",
       "9529  110887056  11088705                              gastritis          NaN   \n",
       "9530  110887056  11088705  general physical health deterioration          NaN   \n",
       "9531  110887056  11088705                               insomnia          NaN   \n",
       "9532  110887056  11088705           supraventricular tachycardia          NaN   \n",
       "\n",
       "     drugname  \n",
       "8428   tramal  \n",
       "9524   tramal  \n",
       "9525   tramal  \n",
       "9526   tramal  \n",
       "9527   tramal  \n",
       "9528   tramal  \n",
       "9529   tramal  \n",
       "9530   tramal  \n",
       "9531   tramal  \n",
       "9532   tramal  "
      ]
     },
     "execution_count": 182,
     "metadata": {},
     "output_type": "execute_result"
    }
   ],
   "source": [
    "drug_react.head(10)"
   ]
  },
  {
   "cell_type": "markdown",
   "metadata": {},
   "source": [
    "#### Graph Tramal"
   ]
  },
  {
   "cell_type": "markdown",
   "metadata": {},
   "source": [
    "So, we can see that multiple TRAMAL exist, but I will keep with the basic TRAMAL.\n",
    "Secondly, we can see that TRAMAL are written in upper cases and lower cases, so let's change that"
   ]
  },
  {
   "cell_type": "markdown",
   "metadata": {},
   "source": [
    "### Tramal Drugs"
   ]
  },
  {
   "cell_type": "code",
   "execution_count": 183,
   "metadata": {},
   "outputs": [
    {
     "data": {
      "text/plain": [
       "array(['tramal'], dtype=object)"
      ]
     },
     "execution_count": 183,
     "metadata": {},
     "output_type": "execute_result"
    }
   ],
   "source": [
    "#check \n",
    "df_tramal= drug_react[drug_react['drugname'] == 'tramal']\n",
    "df_tramal['drugname'].unique()"
   ]
  },
  {
   "cell_type": "code",
   "execution_count": 187,
   "metadata": {},
   "outputs": [
    {
     "data": {
      "text/plain": [
       "pt\n",
       "dementia                            29\n",
       "abdominal distension                30\n",
       "malignant neoplasm progression      30\n",
       "ileus                               31\n",
       "pneumonia                           32\n",
       "white blood cell count increased    34\n",
       "diarrhoea                           34\n",
       "dyspnoea                            35\n",
       "abdominal pain                      43\n",
       "pyrexia                             47\n",
       "nausea                              66\n",
       "dtype: int64"
      ]
     },
     "execution_count": 187,
     "metadata": {},
     "output_type": "execute_result"
    }
   ],
   "source": [
    "#df_tramal_react= df_tramal.groupby(\"pt\").size()\n",
    "df_tramal_react= df_tramal.groupby('pt').size()\n",
    "sorted_tramal =df_tramal_react.sort_values(ascending=False)\n",
    "sorted_tramal_10 = sorted_tramal[0:11]\n",
    "sorted_tramal_10= sorted_tramal_10.sort_values()\n",
    "sorted_tramal_10"
   ]
  },
  {
   "cell_type": "code",
   "execution_count": 191,
   "metadata": {},
   "outputs": [
    {
     "data": {
      "image/png": "[encoded data removed]",
      "text/plain": [
       "<Figure size 1200x600 with 1 Axes>"
      ]
     },
     "metadata": {},
     "output_type": "display_data"
    }
   ],
   "source": [
    "plt.figure(figsize=(12, 6))\n",
    "plt.barh(sorted_tramal_10.index, sorted_tramal_10.values,color='skyblue', edgecolor='black')\n",
    "plt.xlabel(\"Nbr of Reactions\")\n",
    "plt.ylabel(\"Reactions\")\n",
    "plt.title(\"The 10 most common reactions to Tramal\")\n",
    "plt.xticks(rotation=45, ha=\"right\")\n",
    "plt.grid(axis=\"y\", linestyle=\"--\", alpha=0.7)"
   ]
  },
  {
   "cell_type": "markdown",
   "metadata": {},
   "source": [
    "# Merge with Lyrica"
   ]
  },
  {
   "cell_type": "code",
   "execution_count": 192,
   "metadata": {},
   "outputs": [],
   "source": [
    "drug_react_lyrica = df_react_all.merge(drug_lyrica, on = ['primaryid'],how='left')"
   ]
  },
  {
   "cell_type": "code",
   "execution_count": 212,
   "metadata": {},
   "outputs": [],
   "source": [
    "df_lyrica = drug_react_lyrica[drug_react_lyrica['drugname']=='lyrica']"
   ]
  },
  {
   "cell_type": "code",
   "execution_count": 213,
   "metadata": {},
   "outputs": [
    {
     "data": {
      "text/html": [
       "<div>\n",
       "<style scoped>\n",
       "    .dataframe tbody tr th:only-of-type {\n",
       "        vertical-align: middle;\n",
       "    }\n",
       "\n",
       "    .dataframe tbody tr th {\n",
       "        vertical-align: top;\n",
       "    }\n",
       "\n",
       "    .dataframe thead th {\n",
       "        text-align: right;\n",
       "    }\n",
       "</style>\n",
       "<table border=\"1\" class=\"dataframe\">\n",
       "  <thead>\n",
       "    <tr style=\"text-align: right;\">\n",
       "      <th></th>\n",
       "      <th>primaryid</th>\n",
       "      <th>caseid</th>\n",
       "      <th>pt</th>\n",
       "      <th>drug_rec_act</th>\n",
       "      <th>drugname</th>\n",
       "    </tr>\n",
       "  </thead>\n",
       "  <tbody>\n",
       "    <tr>\n",
       "      <th>148</th>\n",
       "      <td>100244892</td>\n",
       "      <td>10024489</td>\n",
       "      <td>arthritis</td>\n",
       "      <td>NaN</td>\n",
       "      <td>lyrica</td>\n",
       "    </tr>\n",
       "    <tr>\n",
       "      <th>149</th>\n",
       "      <td>100244892</td>\n",
       "      <td>10024489</td>\n",
       "      <td>balance disorder</td>\n",
       "      <td>NaN</td>\n",
       "      <td>lyrica</td>\n",
       "    </tr>\n",
       "    <tr>\n",
       "      <th>150</th>\n",
       "      <td>100244892</td>\n",
       "      <td>10024489</td>\n",
       "      <td>foot deformity</td>\n",
       "      <td>NaN</td>\n",
       "      <td>lyrica</td>\n",
       "    </tr>\n",
       "    <tr>\n",
       "      <th>151</th>\n",
       "      <td>100244892</td>\n",
       "      <td>10024489</td>\n",
       "      <td>intentional product misuse</td>\n",
       "      <td>NaN</td>\n",
       "      <td>lyrica</td>\n",
       "    </tr>\n",
       "    <tr>\n",
       "      <th>152</th>\n",
       "      <td>100244892</td>\n",
       "      <td>10024489</td>\n",
       "      <td>ligament sprain</td>\n",
       "      <td>NaN</td>\n",
       "      <td>lyrica</td>\n",
       "    </tr>\n",
       "  </tbody>\n",
       "</table>\n",
       "</div>"
      ],
      "text/plain": [
       "     primaryid    caseid                          pt drug_rec_act drugname\n",
       "148  100244892  10024489                   arthritis          NaN   lyrica\n",
       "149  100244892  10024489            balance disorder          NaN   lyrica\n",
       "150  100244892  10024489              foot deformity          NaN   lyrica\n",
       "151  100244892  10024489  intentional product misuse          NaN   lyrica\n",
       "152  100244892  10024489             ligament sprain          NaN   lyrica"
      ]
     },
     "execution_count": 213,
     "metadata": {},
     "output_type": "execute_result"
    }
   ],
   "source": [
    "df_lyrica.head()"
   ]
  },
  {
   "cell_type": "code",
   "execution_count": 214,
   "metadata": {},
   "outputs": [],
   "source": [
    "lyrica_count = df_lyrica.groupby('pt').size().sort_values(ascending=False)"
   ]
  },
  {
   "cell_type": "code",
   "execution_count": 215,
   "metadata": {},
   "outputs": [
    {
     "data": {
      "text/plain": [
       "pt\n",
       "pain                   3753\n",
       "drug ineffective       3073\n",
       "malaise                2450\n",
       "off label use          2310\n",
       "pain in extremity      1591\n",
       "fatigue                1498\n",
       "insomnia               1458\n",
       "feeling abnormal       1455\n",
       "nausea                 1409\n",
       "withdrawal syndrome    1377\n",
       "dtype: int64"
      ]
     },
     "execution_count": 215,
     "metadata": {},
     "output_type": "execute_result"
    }
   ],
   "source": [
    "lyrica_count[0:10]"
   ]
  },
  {
   "cell_type": "code",
   "execution_count": 216,
   "metadata": {},
   "outputs": [],
   "source": [
    "df_lyrica_10 = lyrica_count[0:10].sort_values()"
   ]
  },
  {
   "cell_type": "code",
   "execution_count": 217,
   "metadata": {},
   "outputs": [
    {
     "data": {
      "image/png": "[encoded data removed]",
      "text/plain": [
       "<Figure size 1200x600 with 1 Axes>"
      ]
     },
     "metadata": {},
     "output_type": "display_data"
    }
   ],
   "source": [
    "plt.figure(figsize=(12, 6))\n",
    "plt.barh(df_lyrica_10.index, df_lyrica_10.values,color='skyblue', edgecolor='black')\n",
    "plt.xlabel(\"Nbr of Reactions\")\n",
    "plt.ylabel(\"Reactions\")\n",
    "plt.title(\"The 10 most common reactions to Lyrica\")\n",
    "plt.xticks(rotation=45, ha=\"right\")\n",
    "plt.grid(axis=\"y\", linestyle=\"--\", alpha=0.7)"
   ]
  },
  {
   "cell_type": "markdown",
   "metadata": {},
   "source": [
    "#### Compare the % of reactions given the nbr of prescriptions"
   ]
  },
  {
   "cell_type": "code",
   "execution_count": 218,
   "metadata": {},
   "outputs": [
    {
     "name": "stdout",
     "output_type": "stream",
     "text": [
      "(129283, 5)\n",
      "(3650, 5)\n"
     ]
    }
   ],
   "source": [
    "print(df_lyrica.shape)\n",
    "print(df_tramal.shape)"
   ]
  },
  {
   "cell_type": "markdown",
   "metadata": {},
   "source": [
    "For Lyrica"
   ]
  },
  {
   "cell_type": "code",
   "execution_count": 242,
   "metadata": {},
   "outputs": [
    {
     "data": {
      "text/plain": [
       "pt\n",
       "withdrawal syndrome    1.065105\n",
       "nausea                 1.089857\n",
       "feeling abnormal       1.125438\n",
       "insomnia               1.127758\n",
       "fatigue                1.158698\n",
       "pain in extremity      1.230634\n",
       "off label use          1.786778\n",
       "malaise                1.895067\n",
       "drug ineffective       2.376956\n",
       "pain                   2.902934\n",
       "dtype: float64"
      ]
     },
     "execution_count": 242,
     "metadata": {},
     "output_type": "execute_result"
    }
   ],
   "source": [
    "percentage_lyrica = df_lyrica_10/df_lyrica.shape[0]*100\n",
    "percentage_lyrica"
   ]
  },
  {
   "cell_type": "code",
   "execution_count": 245,
   "metadata": {},
   "outputs": [
    {
     "data": {
      "image/png": "[encoded data removed]",
      "text/plain": [
       "<Figure size 1200x600 with 1 Axes>"
      ]
     },
     "metadata": {},
     "output_type": "display_data"
    }
   ],
   "source": [
    "plt.figure(figsize=(12, 6))\n",
    "plt.barh(percentage_lyrica.index, percentage_lyrica.values,color='skyblue', edgecolor='black')\n",
    "plt.xlabel(\"Nbr of Reactions\")\n",
    "plt.ylabel(\"Reactions\")\n",
    "plt.title(\"The 10 most common reactions to Tramal\")\n",
    "plt.xticks(rotation=45, ha=\"right\")\n",
    "plt.grid(axis=\"y\", linestyle=\"--\", alpha=0.7)"
   ]
  },
  {
   "cell_type": "code",
   "execution_count": 238,
   "metadata": {},
   "outputs": [],
   "source": [
    "percenatge_tramal = sorted_tramal_10.sort_values(ascending=False)/df_tramal.shape[0]\n",
    "percenatge_tramal= percenatge_tramal.sort_values()*100"
   ]
  },
  {
   "cell_type": "code",
   "execution_count": 244,
   "metadata": {},
   "outputs": [
    {
     "data": {
      "image/png": "[encoded data removed]",
      "text/plain": [
       "<Figure size 1200x600 with 1 Axes>"
      ]
     },
     "metadata": {},
     "output_type": "display_data"
    }
   ],
   "source": [
    "plt.figure(figsize=(12, 6))\n",
    "plt.barh(percenatge_tramal.index,percenatge_tramal.values,color='skyblue', edgecolor='black')\n",
    "plt.xlabel(\"Nbr of Reactions\")\n",
    "plt.ylabel(\"Reactions\")\n",
    "plt.title(\"The 10 most common reactions to Tramal\")\n",
    "plt.xticks(rotation=45, ha=\"right\")\n",
    "plt.grid(axis=\"y\", linestyle=\"--\", alpha=0.7)"
   ]
  }
 ],
 "metadata": {
  "kernelspec": {
   "display_name": "base",
   "language": "python",
   "name": "python3"
  },
  "language_info": {
   "codemirror_mode": {
    "name": "ipython",
    "version": 3
   },
   "file_extension": ".py",
   "mimetype": "text/x-python",
   "name": "python",
   "nbconvert_exporter": "python",
   "pygments_lexer": "ipython3",
   "version": "3.9.13"
  }
 },
 "nbformat": 4,
 "nbformat_minor": 2
}
