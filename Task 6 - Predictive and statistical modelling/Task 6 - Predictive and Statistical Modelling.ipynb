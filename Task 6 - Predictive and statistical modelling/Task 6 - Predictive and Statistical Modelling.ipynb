{
 "cells": [
  {
   "cell_type": "markdown",
   "metadata": {},
   "source": [
    "# Task 5 - Predictive and Statistical Modelling of claims"
   ]
  },
  {
   "cell_type": "markdown",
   "metadata": {},
   "source": [
    "# Remark \n",
    "Pareto distribution based on a very limited data set, the standard value for property business of 1.5 is used. However, it's impossible to compute the pareto second moment because 1.5 <2! In fact, it's a mistake in the exercise. Please use 2.5"
   ]
  },
  {
   "cell_type": "markdown",
   "metadata": {},
   "source": [
    "### Poisson distribution for claim frequency"
   ]
  },
  {
   "cell_type": "markdown",
   "metadata": {},
   "source": [
    "A Poisson distribution has been selected to \n",
    "model the claims frequency, i.e. the number of \n",
    "claims during one year. This is based on the \n",
    "assumption that claims are independent of each \n",
    "other. Due to the nature of the cover this \n",
    "assumption is considered to be reasonable."
   ]
  },
  {
   "cell_type": "markdown",
   "metadata": {},
   "source": [
    "$$\n",
    "P(X = k) = \\frac{e^{-\\lambda} \\lambda^k}{k!}\n",
    "$$"
   ]
  },
  {
   "cell_type": "markdown",
   "metadata": {},
   "source": [
    "e is the base of the natural logarithm (approximately 2.71828).\n",
    "\n",
    "λ is the average rate of occurrence of events.\n",
    "\n",
    "k is the number of events that occur."
   ]
  },
  {
   "cell_type": "markdown",
   "metadata": {},
   "source": [
    "## Pareto distribution for the severity"
   ]
  },
  {
   "cell_type": "markdown",
   "metadata": {},
   "source": [
    "A Pareto distribution has been selected for the \n",
    "claims severity. The Pareto distribution has a \n",
    "long tail, which ensures that the model \n",
    "produces extremely large losses which have not \n",
    "been observed in the past. In addition, extreme \n",
    "value theory provides a mathematical basis for \n",
    "the assumption of a Pareto distribution for \n",
    "extreme losses."
   ]
  },
  {
   "cell_type": "markdown",
   "metadata": {},
   "source": [
    " The Pareto distribution, which is used to model \n",
    "the severity, has two parameters. Since it is \n",
    "difficult to estimate the shape parameter of the \n",
    "Pareto distribution based on a very limited data \n",
    "set, the standard value for property business of \n",
    "2.5 is used. This produces a relatively long \n",
    "tailed distribution."
   ]
  },
  {
   "cell_type": "markdown",
   "metadata": {},
   "source": [
    "### Dataset"
   ]
  },
  {
   "cell_type": "code",
   "execution_count": 5,
   "metadata": {},
   "outputs": [],
   "source": [
    "import numpy as np\n",
    "import pandas as pd"
   ]
  },
  {
   "cell_type": "code",
   "execution_count": 6,
   "metadata": {},
   "outputs": [],
   "source": [
    "dict_data = {'WIS':[3.1,2.1,10.5,2.0,np.nan,np.nan,230.5,51.0,0.5], 'Non-WIS':[4.5,np.nan,np.nan,np.nan,125.3,np.nan,0.4,np.nan,np.nan]}"
   ]
  },
  {
   "cell_type": "code",
   "execution_count": 7,
   "metadata": {},
   "outputs": [
    {
     "data": {
      "text/html": [
       "<div>\n",
       "<style scoped>\n",
       "    .dataframe tbody tr th:only-of-type {\n",
       "        vertical-align: middle;\n",
       "    }\n",
       "\n",
       "    .dataframe tbody tr th {\n",
       "        vertical-align: top;\n",
       "    }\n",
       "\n",
       "    .dataframe thead th {\n",
       "        text-align: right;\n",
       "    }\n",
       "</style>\n",
       "<table border=\"1\" class=\"dataframe\">\n",
       "  <thead>\n",
       "    <tr style=\"text-align: right;\">\n",
       "      <th></th>\n",
       "      <th>WIS</th>\n",
       "      <th>Non-WIS</th>\n",
       "    </tr>\n",
       "  </thead>\n",
       "  <tbody>\n",
       "    <tr>\n",
       "      <th>0</th>\n",
       "      <td>3.1</td>\n",
       "      <td>4.5</td>\n",
       "    </tr>\n",
       "    <tr>\n",
       "      <th>1</th>\n",
       "      <td>2.1</td>\n",
       "      <td>NaN</td>\n",
       "    </tr>\n",
       "    <tr>\n",
       "      <th>2</th>\n",
       "      <td>10.5</td>\n",
       "      <td>NaN</td>\n",
       "    </tr>\n",
       "    <tr>\n",
       "      <th>3</th>\n",
       "      <td>2.0</td>\n",
       "      <td>NaN</td>\n",
       "    </tr>\n",
       "    <tr>\n",
       "      <th>4</th>\n",
       "      <td>NaN</td>\n",
       "      <td>125.3</td>\n",
       "    </tr>\n",
       "    <tr>\n",
       "      <th>5</th>\n",
       "      <td>NaN</td>\n",
       "      <td>NaN</td>\n",
       "    </tr>\n",
       "    <tr>\n",
       "      <th>6</th>\n",
       "      <td>230.5</td>\n",
       "      <td>0.4</td>\n",
       "    </tr>\n",
       "    <tr>\n",
       "      <th>7</th>\n",
       "      <td>51.0</td>\n",
       "      <td>NaN</td>\n",
       "    </tr>\n",
       "    <tr>\n",
       "      <th>8</th>\n",
       "      <td>0.5</td>\n",
       "      <td>NaN</td>\n",
       "    </tr>\n",
       "  </tbody>\n",
       "</table>\n",
       "</div>"
      ],
      "text/plain": [
       "     WIS  Non-WIS\n",
       "0    3.1      4.5\n",
       "1    2.1      NaN\n",
       "2   10.5      NaN\n",
       "3    2.0      NaN\n",
       "4    NaN    125.3\n",
       "5    NaN      NaN\n",
       "6  230.5      0.4\n",
       "7   51.0      NaN\n",
       "8    0.5      NaN"
      ]
     },
     "execution_count": 7,
     "metadata": {},
     "output_type": "execute_result"
    }
   ],
   "source": [
    "df = pd.DataFrame(dict_data)\n",
    "df"
   ]
  },
  {
   "cell_type": "code",
   "execution_count": 8,
   "metadata": {},
   "outputs": [],
   "source": [
    "index = ['2016 -1','2016-2','2017 -1','2017-2','2018 -1','2018-2','2019 -1','2019-2','2020 -1']\n",
    "df.index=index"
   ]
  },
  {
   "cell_type": "code",
   "execution_count": 9,
   "metadata": {},
   "outputs": [
    {
     "data": {
      "text/html": [
       "<div>\n",
       "<style scoped>\n",
       "    .dataframe tbody tr th:only-of-type {\n",
       "        vertical-align: middle;\n",
       "    }\n",
       "\n",
       "    .dataframe tbody tr th {\n",
       "        vertical-align: top;\n",
       "    }\n",
       "\n",
       "    .dataframe thead th {\n",
       "        text-align: right;\n",
       "    }\n",
       "</style>\n",
       "<table border=\"1\" class=\"dataframe\">\n",
       "  <thead>\n",
       "    <tr style=\"text-align: right;\">\n",
       "      <th></th>\n",
       "      <th>WIS</th>\n",
       "      <th>Non-WIS</th>\n",
       "    </tr>\n",
       "  </thead>\n",
       "  <tbody>\n",
       "    <tr>\n",
       "      <th>2016 -1</th>\n",
       "      <td>3.1</td>\n",
       "      <td>4.5</td>\n",
       "    </tr>\n",
       "    <tr>\n",
       "      <th>2016-2</th>\n",
       "      <td>2.1</td>\n",
       "      <td>NaN</td>\n",
       "    </tr>\n",
       "    <tr>\n",
       "      <th>2017 -1</th>\n",
       "      <td>10.5</td>\n",
       "      <td>NaN</td>\n",
       "    </tr>\n",
       "    <tr>\n",
       "      <th>2017-2</th>\n",
       "      <td>2.0</td>\n",
       "      <td>NaN</td>\n",
       "    </tr>\n",
       "    <tr>\n",
       "      <th>2018 -1</th>\n",
       "      <td>NaN</td>\n",
       "      <td>125.3</td>\n",
       "    </tr>\n",
       "    <tr>\n",
       "      <th>2018-2</th>\n",
       "      <td>NaN</td>\n",
       "      <td>NaN</td>\n",
       "    </tr>\n",
       "    <tr>\n",
       "      <th>2019 -1</th>\n",
       "      <td>230.5</td>\n",
       "      <td>0.4</td>\n",
       "    </tr>\n",
       "    <tr>\n",
       "      <th>2019-2</th>\n",
       "      <td>51.0</td>\n",
       "      <td>NaN</td>\n",
       "    </tr>\n",
       "    <tr>\n",
       "      <th>2020 -1</th>\n",
       "      <td>0.5</td>\n",
       "      <td>NaN</td>\n",
       "    </tr>\n",
       "  </tbody>\n",
       "</table>\n",
       "</div>"
      ],
      "text/plain": [
       "           WIS  Non-WIS\n",
       "2016 -1    3.1      4.5\n",
       "2016-2     2.1      NaN\n",
       "2017 -1   10.5      NaN\n",
       "2017-2     2.0      NaN\n",
       "2018 -1    NaN    125.3\n",
       "2018-2     NaN      NaN\n",
       "2019 -1  230.5      0.4\n",
       "2019-2    51.0      NaN\n",
       "2020 -1    0.5      NaN"
      ]
     },
     "execution_count": 9,
     "metadata": {},
     "output_type": "execute_result"
    }
   ],
   "source": [
    "df"
   ]
  },
  {
   "cell_type": "markdown",
   "metadata": {},
   "source": [
    "### Question e\n",
    "Which parameters do you obtain when you are fitting the claims frequency and severity distributions for each site to the provided data set? "
   ]
  },
  {
   "cell_type": "markdown",
   "metadata": {},
   "source": [
    "#### Find the Lamdba - average rate of occurence for the 'Poisson distribution'"
   ]
  },
  {
   "cell_type": "code",
   "execution_count": 10,
   "metadata": {},
   "outputs": [
    {
     "name": "stdout",
     "output_type": "stream",
     "text": [
      "lambda_WIS (expected nbr claims): 1.4\n",
      "lambda_NoN_WIS (expected nbr claims): 0.6\n"
     ]
    }
   ],
   "source": [
    "N_WIS = (2+2+0+2+1)/5 #average rate of occurence for the last 5 years\n",
    "print(f'lambda_WIS (expected nbr claims): {N_WIS}')\n",
    "\n",
    "N_NoN_WIS = (1 + 0 +1 +1 +0)/5\n",
    "print(f'lambda_NoN_WIS (expected nbr claims): {N_NoN_WIS}')"
   ]
  },
  {
   "cell_type": "markdown",
   "metadata": {},
   "source": [
    "#### For pareto distribution find t"
   ]
  },
  {
   "cell_type": "markdown",
   "metadata": {},
   "source": [
    "#### Expected Value (Mean)\n",
    "\n",
    "$$\n",
    "E[X]= t\\cdot \\frac{a}{(a-2)}\n",
    "$$\n",
    "so t is:\n",
    "$$\n",
    "t = E[X] * \\frac{(a-2)}{(a)}\n",
    "$$\n"
   ]
  },
  {
   "cell_type": "markdown",
   "metadata": {},
   "source": [
    "Before the aggregate loss model can be fit to the data, the loss \n",
    "amounts need to be on-levelled to current year amounts using \n",
    "an indexation of 3% p.a. to allow for monetary inflation since the \n",
    "time of the loss.  "
   ]
  },
  {
   "cell_type": "code",
   "execution_count": 11,
   "metadata": {},
   "outputs": [],
   "source": [
    "df_2021 = df.copy()"
   ]
  },
  {
   "cell_type": "code",
   "execution_count": 12,
   "metadata": {},
   "outputs": [],
   "source": [
    "# put all the value at end 2021\n",
    "def value_2021(df_2021):\n",
    "    for i in range(9):\n",
    "        df_2021.iloc[i,0]=df_2021.iloc[i,0]*1.03**(5-np.floor(i/2))\n",
    "        df_2021.iloc[i,1]=df_2021.iloc[i,1]*1.03**(5-np.floor(i/2))\n",
    "    return df_2021 "
   ]
  },
  {
   "cell_type": "code",
   "execution_count": 13,
   "metadata": {},
   "outputs": [],
   "source": [
    "df_2021 =np.round(value_2021(df_2021),1)"
   ]
  },
  {
   "cell_type": "code",
   "execution_count": 14,
   "metadata": {},
   "outputs": [
    {
     "data": {
      "text/html": [
       "<div>\n",
       "<style scoped>\n",
       "    .dataframe tbody tr th:only-of-type {\n",
       "        vertical-align: middle;\n",
       "    }\n",
       "\n",
       "    .dataframe tbody tr th {\n",
       "        vertical-align: top;\n",
       "    }\n",
       "\n",
       "    .dataframe thead th {\n",
       "        text-align: right;\n",
       "    }\n",
       "</style>\n",
       "<table border=\"1\" class=\"dataframe\">\n",
       "  <thead>\n",
       "    <tr style=\"text-align: right;\">\n",
       "      <th></th>\n",
       "      <th>WIS</th>\n",
       "      <th>Non-WIS</th>\n",
       "    </tr>\n",
       "  </thead>\n",
       "  <tbody>\n",
       "    <tr>\n",
       "      <th>2016 -1</th>\n",
       "      <td>3.6</td>\n",
       "      <td>5.2</td>\n",
       "    </tr>\n",
       "    <tr>\n",
       "      <th>2016-2</th>\n",
       "      <td>2.4</td>\n",
       "      <td>NaN</td>\n",
       "    </tr>\n",
       "    <tr>\n",
       "      <th>2017 -1</th>\n",
       "      <td>11.8</td>\n",
       "      <td>NaN</td>\n",
       "    </tr>\n",
       "    <tr>\n",
       "      <th>2017-2</th>\n",
       "      <td>2.3</td>\n",
       "      <td>NaN</td>\n",
       "    </tr>\n",
       "    <tr>\n",
       "      <th>2018 -1</th>\n",
       "      <td>NaN</td>\n",
       "      <td>136.9</td>\n",
       "    </tr>\n",
       "    <tr>\n",
       "      <th>2018-2</th>\n",
       "      <td>NaN</td>\n",
       "      <td>NaN</td>\n",
       "    </tr>\n",
       "    <tr>\n",
       "      <th>2019 -1</th>\n",
       "      <td>244.5</td>\n",
       "      <td>0.4</td>\n",
       "    </tr>\n",
       "    <tr>\n",
       "      <th>2019-2</th>\n",
       "      <td>54.1</td>\n",
       "      <td>NaN</td>\n",
       "    </tr>\n",
       "    <tr>\n",
       "      <th>2020 -1</th>\n",
       "      <td>0.5</td>\n",
       "      <td>NaN</td>\n",
       "    </tr>\n",
       "  </tbody>\n",
       "</table>\n",
       "</div>"
      ],
      "text/plain": [
       "           WIS  Non-WIS\n",
       "2016 -1    3.6      5.2\n",
       "2016-2     2.4      NaN\n",
       "2017 -1   11.8      NaN\n",
       "2017-2     2.3      NaN\n",
       "2018 -1    NaN    136.9\n",
       "2018-2     NaN      NaN\n",
       "2019 -1  244.5      0.4\n",
       "2019-2    54.1      NaN\n",
       "2020 -1    0.5      NaN"
      ]
     },
     "execution_count": 14,
     "metadata": {},
     "output_type": "execute_result"
    }
   ],
   "source": [
    "df_2021"
   ]
  },
  {
   "cell_type": "code",
   "execution_count": 15,
   "metadata": {},
   "outputs": [
    {
     "name": "stdout",
     "output_type": "stream",
     "text": [
      "63.8\n",
      "28.5\n"
     ]
    }
   ],
   "source": [
    "E_X_WIS = np.round(np.sum(df_2021.iloc[:,0].dropna())/5,1) # can not use np.average because \n",
    "print(E_X_WIS)\n",
    "E_X_Non_WIS = np.round(np.sum(df_2021.iloc[:,1].dropna()) /5,1)\n",
    "print(E_X_Non_WIS)"
   ]
  },
  {
   "cell_type": "code",
   "execution_count": 16,
   "metadata": {},
   "outputs": [
    {
     "name": "stdout",
     "output_type": "stream",
     "text": [
      "38.3\n",
      "17.1\n"
     ]
    }
   ],
   "source": [
    "t_WIS = np.round(E_X_WIS*(2.5-1)/2.5,1)\n",
    "print(t_WIS)\n",
    "t_Non_WIS = np.round(E_X_Non_WIS*(2.5-1)/2.5,1)\n",
    "print(t_Non_WIS)"
   ]
  },
  {
   "cell_type": "markdown",
   "metadata": {},
   "source": [
    "### Question (f) \n",
    "What is the expected value of the claims for the current year 2021 at the individual (i.e. for each site) as well as at the aggregate level? Do you need a simulation tool or can the expected values be derived analytically? Jakob has your back, check out his hint."
   ]
  },
  {
   "cell_type": "markdown",
   "metadata": {},
   "source": [
    "Use : $$E[S_{individual}]=E[N]⋅E[X] $$"
   ]
  },
  {
   "cell_type": "code",
   "execution_count": 17,
   "metadata": {},
   "outputs": [
    {
     "name": "stdout",
     "output_type": "stream",
     "text": [
      "expected claims for WIS in 2021 : 89.32\n",
      "expected claims for NON WIS in 2021 : 17.099999999999998\n"
     ]
    }
   ],
   "source": [
    "E_2021_WIS = N_WIS*E_X_WIS\n",
    "print(f'expected claims for WIS in 2021 : {E_2021_WIS}')\n",
    "E_2021_Non_WIS= N_NoN_WIS *E_X_Non_WIS \n",
    "print(f'expected claims for NON WIS in 2021 : {E_2021_Non_WIS}')"
   ]
  },
  {
   "cell_type": "code",
   "execution_count": 18,
   "metadata": {},
   "outputs": [
    {
     "data": {
      "text/plain": [
       "106.41999999999999"
      ]
     },
     "execution_count": 18,
     "metadata": {},
     "output_type": "execute_result"
    }
   ],
   "source": [
    "# total expected claims is the sum of both of them \n",
    "E_aggregate_claim = E_2021_WIS+E_2021_Non_WIS\n",
    "E_aggregate_claim"
   ]
  },
  {
   "cell_type": "markdown",
   "metadata": {},
   "source": [
    "### Question g\n",
    "Approximate the Value at Risk at level 80% of the (total) aggregate loss distribution for both risk types using the standard normal distribution (or “CLT”) to obtain an estimate of the equalisation reserves to be set up by the insurer. What now? Jakob tells you in some hints.\n",
    "\n"
   ]
  },
  {
   "cell_type": "markdown",
   "metadata": {},
   "source": [
    " **Variance of Total Aggregate Loss \\( S \\)**\n",
    "\n",
    "From **Hint 4**, the variance of the total aggregate loss \\( S \\) is given by:\n",
    "\n",
    "$$\n",
    "\\text{Var}[S] = E[N] \\cdot \\text{Var}[X] + \\text{Var}[N] \\cdot (E[X])^2\n",
    "$$\n",
    "\n",
    "**Explanation of Terms:**\n",
    "\n",
    "- E[N]: Expected number of claims.\n",
    "- Var[N] : Variance of the number of claims.\n",
    "- E[X]: Expected claim severity.\n",
    "- Var[X]: Variance of claim severity."
   ]
  },
  {
   "cell_type": "markdown",
   "metadata": {},
   "source": [
    "But let's simplify the term:"
   ]
  },
  {
   "cell_type": "markdown",
   "metadata": {},
   "source": [
    "We start with the variance of the aggregate claims \\(S_i\\):\n",
    "$$\n",
    "\\text{Var}(S_i) = E[N_i]\\,\\text{Var}(X_{i,1}) + \\text{Var}(N_i)\\,(E[X_{i,1}])^2.\n",
    "$$\n",
    "\n",
    "Recall that the variance of \\(X_{i,1}\\) can be written as:\n",
    "$$\n",
    "\\text{Var}(X_{i,1}) = E[X_{i,1}^2] - \\big(E[X_{i,1}]\\big)^2.\n",
    "$$\n",
    "\n",
    "Substitute this into the expression for Var(S_i):\n",
    "$$\n",
    "\\text{Var}(S_i) = E[N_i]\\Big(E[X_{i,1}^2] - \\big(E[X_{i,1}]\\big)^2\\Big) + \\text{Var}(N_i)\\,(E[X_{i,1}])^2.\n",
    "$$\n",
    "\n",
    "If we assume that the number of claims \\(N_i\\) follows a Poisson distribution, then\n",
    "$$\n",
    "\\text{Var}(N_i) = E[N_i].\n",
    "$$\n",
    "\n",
    "Thus, the formula becomes:\n",
    "$$\n",
    "\\begin{aligned}\n",
    "\\text{Var}(S_i) &= E[N_i]\\Big(E[X_{i,1}^2] - \\big(E[X_{i,1}]\\big)^2\\Big) + E[N_i]\\,(E[X_{i,1}])^2 \\\\\n",
    "&= E[N_i] \\left( E[X_{i,1}^2] - \\big(E[X_{i,1}]\\big)^2 + \\big(E[X_{i,1}]\\big)^2 \\right) \\\\\n",
    "&= E[N_i]\\,E[X_{i,1}^2].\n",
    "\\end{aligned}\n",
    "$$"
   ]
  },
  {
   "cell_type": "markdown",
   "metadata": {},
   "source": [
    "This is the Var for individual - so WIS or Non_WIS"
   ]
  },
  {
   "cell_type": "markdown",
   "metadata": {},
   "source": [
    "To have the aggregate we just some them"
   ]
  },
  {
   "cell_type": "markdown",
   "metadata": {},
   "source": [
    " How to find \\(E[X_{i,1}^2]\\)? \n",
    " As it's a pareto distribution, the second moment  moment of Pareto is:\n",
    "\n",
    "$$\n",
    "\\text{Second Moment} = t^2 * {\\frac{a}{a-2}}\n",
    "$$\n"
   ]
  },
  {
   "cell_type": "code",
   "execution_count": 19,
   "metadata": {},
   "outputs": [],
   "source": [
    "\n",
    "var_S = np.round(np.round(N_WIS*(t_WIS**2 *((2.5/(2.5-2)))),1) + np.round(N_NoN_WIS*(t_Non_WIS**2 * ((2.5/(2.5-2)))),1),1)\n"
   ]
  },
  {
   "cell_type": "code",
   "execution_count": 20,
   "metadata": {},
   "outputs": [
    {
     "data": {
      "text/plain": [
       "11145.4"
      ]
     },
     "execution_count": 20,
     "metadata": {},
     "output_type": "execute_result"
    }
   ],
   "source": [
    "var_S"
   ]
  },
  {
   "cell_type": "markdown",
   "metadata": {},
   "source": [
    "And then find do the value at risk Value at Risk at level 80%"
   ]
  },
  {
   "cell_type": "markdown",
   "metadata": {},
   "source": [
    "$$\n",
    "\\mathbb{P}[S \\leq z] = \\mathbb{P}\\left[\\frac{S - \\mathbb{E}[S]}{\\sqrt{\\mathrm{Var}[S]}} \\leq \\frac{z - \\mathbb{E}[S]}{\\sqrt{\\mathrm{Var}[S]}}\\right] \\approx \\Phi_{0,1}\\left(\\frac{z - \\mathbb{E}[S]}{\\sqrt{\\mathrm{Var}[S]}}\\right) \\overset{!}{=} 0.8\n",
    "$$\n",
    "\n",
    "$$\n",
    "\\iff z = \\Phi_{0,1}^{-1}(0.8) \\cdot \\sqrt{\\mathrm{Var}[S]} + \\mathbb{E}[S]\n",
    "$$"
   ]
  },
  {
   "cell_type": "markdown",
   "metadata": {},
   "source": [
    "The value of the 80%-quantile of the standard normal distribution is 0.84"
   ]
  },
  {
   "cell_type": "code",
   "execution_count": 22,
   "metadata": {},
   "outputs": [
    {
     "data": {
      "text/plain": [
       "195.10029228639246"
      ]
     },
     "execution_count": 22,
     "metadata": {},
     "output_type": "execute_result"
    }
   ],
   "source": [
    "z = 0.84 * np.sqrt(var_S)+E_aggregate_claim\n",
    "z"
   ]
  }
 ],
 "metadata": {
  "kernelspec": {
   "display_name": "base",
   "language": "python",
   "name": "python3"
  },
  "language_info": {
   "codemirror_mode": {
    "name": "ipython",
    "version": 3
   },
   "file_extension": ".py",
   "mimetype": "text/x-python",
   "name": "python",
   "nbconvert_exporter": "python",
   "pygments_lexer": "ipython3",
   "version": "3.9.13"
  }
 },
 "nbformat": 4,
 "nbformat_minor": 2
}
